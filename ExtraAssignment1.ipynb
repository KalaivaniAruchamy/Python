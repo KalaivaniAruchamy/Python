{
 "cells": [
  {
   "cell_type": "code",
   "execution_count": 1,
   "id": "8bc0e443-c84e-4c28-9044-9274b944d111",
   "metadata": {},
   "outputs": [
    {
     "name": "stdout",
     "output_type": "stream",
     "text": [
      "HOPE AI\n"
     ]
    }
   ],
   "source": [
    " #print Statement\n",
    "print(\"HOPE AI\")"
   ]
  },
  {
   "cell_type": "code",
   "execution_count": 2,
   "id": "e617c082-48df-4479-9390-f339c68ea161",
   "metadata": {},
   "outputs": [
    {
     "name": "stdout",
     "output_type": "stream",
     "text": [
      "Enter your institute name? : HOPE AI\n"
     ]
    }
   ],
   "source": [
    "# Buy input Enter your institute name? : HOPE AI\n",
    "print(\"Enter your institute name? : HOPE AI\")"
   ]
  },
  {
   "cell_type": "code",
   "execution_count": 3,
   "id": "76f583e8-ef74-4f82-b225-e53ee2177adc",
   "metadata": {},
   "outputs": [
    {
     "name": "stdout",
     "output_type": "stream",
     "text": [
      "Enter your name: Raj\n",
      "Enter your age: 15\n",
      "Enter your school name: Guru school\n",
      "Enter your drgree: B.E CSE\n"
     ]
    }
   ],
   "source": [
    "#Buy inputs\n",
    "print(\"Enter your name: Raj\")\n",
    "print(\"Enter your age: 15\")\n",
    "print(\"Enter your school name: Guru school\")\n",
    "print(\"Enter your drgree: B.E CSE\")"
   ]
  },
  {
   "cell_type": "code",
   "execution_count": 5,
   "id": "cfd5929b-c382-481b-a906-98500e0f4fe1",
   "metadata": {},
   "outputs": [
    {
     "name": "stdout",
     "output_type": "stream",
     "text": [
      "a= 43\n",
      "b= 34\n",
      "add= 77\n"
     ]
    }
   ],
   "source": [
    "#Addition\n",
    "a= 43\n",
    "b= 34\n",
    "print(\"a= 43\")\n",
    "print(\"b= 34\")\n",
    "add=a+b\n",
    "print(\"add=\",add)"
   ]
  },
  {
   "cell_type": "code",
   "execution_count": 7,
   "id": "b85608d0-340d-4d60-adad-ed15bbfeb056",
   "metadata": {},
   "outputs": [
    {
     "name": "stdout",
     "output_type": "stream",
     "text": [
      "a= 43\n",
      "b= 34\n",
      "sub= 9\n"
     ]
    }
   ],
   "source": [
    "#Subtraction\n",
    "a= 43\n",
    "b= 34\n",
    "print(\"a= 43\")\n",
    "print(\"b= 34\")\n",
    "sub=a-b\n",
    "print(\"sub=\",sub)"
   ]
  },
  {
   "cell_type": "code",
   "execution_count": 8,
   "id": "c39da384-66de-44a9-b4c9-3ddcc1f8a304",
   "metadata": {},
   "outputs": [
    {
     "name": "stdout",
     "output_type": "stream",
     "text": [
      "a= 63\n",
      "b= 97\n",
      "mul= 6111\n"
     ]
    }
   ],
   "source": [
    "#Multiplication\n",
    "a= 63\n",
    "b= 97\n",
    "print(\"a= 63\")\n",
    "print(\"b= 97\")\n",
    "mul=a*b\n",
    "print(\"mul=\",mul)\n"
   ]
  },
  {
   "cell_type": "code",
   "execution_count": 10,
   "id": "b6feb2d3-6663-4a28-b800-e407f006982e",
   "metadata": {},
   "outputs": [
    {
     "name": "stdout",
     "output_type": "stream",
     "text": [
      "a= 76\n",
      "b= 31\n",
      "Float Div= 2.4516129032258065\n"
     ]
    }
   ],
   "source": [
    "#Division,Returns the exact division result as a float.\n",
    "a= 76\n",
    "b= 31\n",
    "print(\"a= 76\")\n",
    "print(\"b= 31\")\n",
    "div=a/b\n",
    "print(\"Float Div=\",div)"
   ]
  },
  {
   "cell_type": "code",
   "execution_count": 12,
   "id": "cfe48594-9e91-4ca2-8d16-9b473666bcbb",
   "metadata": {},
   "outputs": [
    {
     "name": "stdout",
     "output_type": "stream",
     "text": [
      "a= 76\n",
      "b= 31\n",
      "Floor Div= 2\n"
     ]
    }
   ],
   "source": [
    "#Floor division, Returns the result of division rounded down to the nearest integer (or floored). If a and b are integers, the result is an integer; if one is a float, the result is a float but still represents a floored value.\n",
    "a= 76\n",
    "b= 31\n",
    "print(\"a= 76\")\n",
    "print(\"b= 31\")\n",
    "div=a//b\n",
    "print(\"Floor Div=\",div)"
   ]
  },
  {
   "cell_type": "code",
   "execution_count": 13,
   "id": "e0f9cef2-a08a-48b1-aa90-bc82692330b6",
   "metadata": {},
   "outputs": [
    {
     "name": "stdout",
     "output_type": "stream",
     "text": [
      "a= 76\n",
      "b= 31\n",
      "Modulo= 14\n"
     ]
    }
   ],
   "source": [
    "#Modulo\n",
    "a= 76\n",
    "b= 31\n",
    "print(\"a= 76\")\n",
    "print(\"b= 31\")\n",
    "Modulo=a%b\n",
    "print(\"Modulo=\",Modulo)"
   ]
  },
  {
   "cell_type": "code",
   "execution_count": 16,
   "id": "a91b4d47-61d0-42f5-b652-b66a8fd664da",
   "metadata": {},
   "outputs": [
    {
     "name": "stdout",
     "output_type": "stream",
     "text": [
      "a= 4\n",
      "b= 4\n",
      "Power= 256\n"
     ]
    }
   ],
   "source": [
    "#Power,To calculate the power in Python, you can use the ** operator(result = base ** exponent) or the built-in pow() function(result = pow(base, exponent)).\n",
    "a= 4\n",
    "b= 4\n",
    "print(\"a= 4\")\n",
    "print(\"b= 4\")\n",
    "Power=a**b\n",
    "print(\"Power=\",Power)\n"
   ]
  },
  {
   "cell_type": "code",
   "execution_count": 17,
   "id": "c860122b-3dfe-44b9-b1ac-4bc60b543314",
   "metadata": {},
   "outputs": [
    {
     "name": "stdout",
     "output_type": "stream",
     "text": [
      "a= 4\n",
      "b= 4\n",
      "Power= 256\n"
     ]
    }
   ],
   "source": [
    "#Power,To calculate the power in Python, you can use the built-in pow() function i.e.,result = pow(base, exponent).\n",
    "a= 4\n",
    "b= 4\n",
    "print(\"a= 4\")\n",
    "print(\"b= 4\")\n",
    "Power=pow(a, b)\n",
    "print(\"Power=\",Power)\n"
   ]
  },
  {
   "cell_type": "code",
   "execution_count": null,
   "id": "5dc514b7-6971-4afe-a9d8-4f735b258b28",
   "metadata": {},
   "outputs": [],
   "source": []
  }
 ],
 "metadata": {
  "kernelspec": {
   "display_name": "Python 3 (ipykernel)",
   "language": "python",
   "name": "python3"
  },
  "language_info": {
   "codemirror_mode": {
    "name": "ipython",
    "version": 3
   },
   "file_extension": ".py",
   "mimetype": "text/x-python",
   "name": "python",
   "nbconvert_exporter": "python",
   "pygments_lexer": "ipython3",
   "version": "3.12.1"
  }
 },
 "nbformat": 4,
 "nbformat_minor": 5
}
